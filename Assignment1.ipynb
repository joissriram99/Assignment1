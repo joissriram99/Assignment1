{
  "nbformat": 4,
  "nbformat_minor": 0,
  "metadata": {
    "colab": {
      "name": "Assignment1.ipynb",
      "provenance": []
    },
    "kernelspec": {
      "name": "python3",
      "display_name": "Python 3"
    },
    "language_info": {
      "name": "python"
    }
  },
  "cells": [
    {
      "cell_type": "code",
      "metadata": {
        "id": "PMm0nCBGhXjs",
        "colab": {
          "base_uri": "https://localhost:8080/"
        },
        "outputId": "5d91d8a9-1821-470e-d266-5c97857fa1c0"
      },
      "source": [
        "import torch\n",
        "from torch.autograd import Variable\n",
        "import torch.nn as nn\n",
        "import torch.nn.functional as F\n",
        "import torch.optim as optim\n",
        "import numpy as np\n",
        "import matplotlib.pyplot as plt\n",
        "%matplotlib inline\n",
        "torch.manual_seed(2)"
      ],
      "execution_count": 1,
      "outputs": [
        {
          "output_type": "execute_result",
          "data": {
            "text/plain": [
              "<torch._C.Generator at 0x7fc227f998b0>"
            ]
          },
          "metadata": {
            "tags": []
          },
          "execution_count": 1
        }
      ]
    },
    {
      "cell_type": "code",
      "metadata": {
        "id": "WngZ9QhkQWiC"
      },
      "source": [
        "X = torch.rand((2,2))\n",
        "Y = torch.Tensor([0, 1, 1, 0]).view(-1,1)"
      ],
      "execution_count": 2,
      "outputs": []
    },
    {
      "cell_type": "code",
      "metadata": {
        "id": "wPUDsjlgQYfl"
      },
      "source": [
        "class XOR(nn.Module):\n",
        "    def __init__(self, input_dim = 2, output_dim=1):\n",
        "        super(XOR, self).__init__()\n",
        "        self.lin1 = nn.Linear(input_dim, 11)\n",
        "        self.lin2 = nn.Linear(11, output_dim,bias=False)\n",
        "    \n",
        "    def forward(self, x):\n",
        "        x = self.lin1(x)\n",
        "        x = F.tanh(x)\n",
        "        x = self.lin2(x)\n",
        "        return x"
      ],
      "execution_count": 3,
      "outputs": []
    },
    {
      "cell_type": "code",
      "metadata": {
        "colab": {
          "base_uri": "https://localhost:8080/"
        },
        "id": "a270tqQQQaeh",
        "outputId": "68094bb6-38a0-4298-b504-cb4d8baaeb3d"
      },
      "source": [
        "model = XOR()\n",
        "print(model)\n",
        "from torchsummary import summary\n",
        "summary(model, (2,2))"
      ],
      "execution_count": 4,
      "outputs": [
        {
          "output_type": "stream",
          "text": [
            "XOR(\n",
            "  (lin1): Linear(in_features=2, out_features=11, bias=True)\n",
            "  (lin2): Linear(in_features=11, out_features=1, bias=False)\n",
            ")\n",
            "----------------------------------------------------------------\n",
            "        Layer (type)               Output Shape         Param #\n",
            "================================================================\n",
            "            Linear-1                [-1, 2, 11]              33\n",
            "            Linear-2                 [-1, 2, 1]              11\n",
            "================================================================\n",
            "Total params: 44\n",
            "Trainable params: 44\n",
            "Non-trainable params: 0\n",
            "----------------------------------------------------------------\n",
            "Input size (MB): 0.00\n",
            "Forward/backward pass size (MB): 0.00\n",
            "Params size (MB): 0.00\n",
            "Estimated Total Size (MB): 0.00\n",
            "----------------------------------------------------------------\n"
          ],
          "name": "stdout"
        },
        {
          "output_type": "stream",
          "text": [
            "/usr/local/lib/python3.7/dist-packages/torch/nn/functional.py:1698: UserWarning: nn.functional.tanh is deprecated. Use torch.tanh instead.\n",
            "  warnings.warn(\"nn.functional.tanh is deprecated. Use torch.tanh instead.\")\n"
          ],
          "name": "stderr"
        }
      ]
    },
    {
      "cell_type": "code",
      "metadata": {
        "id": "36c574hoQcet"
      },
      "source": [
        "def weights_init(model):\n",
        "    for m in model.modules():\n",
        "        if isinstance(m, nn.Linear):\n",
        "            # initialize the weight tensor, here we use a normal distribution\n",
        "            m.weight.data.normal_(0, 1)\n",
        "\n",
        "weights_init(model)"
      ],
      "execution_count": 5,
      "outputs": []
    },
    {
      "cell_type": "code",
      "metadata": {
        "id": "I8FprkDnQewK"
      },
      "source": [
        "loss_func = nn.L1Loss()"
      ],
      "execution_count": 6,
      "outputs": []
    },
    {
      "cell_type": "code",
      "metadata": {
        "id": "YWjmZG3vQgjZ"
      },
      "source": [
        "optimizer = optim.SGD(model.parameters(), lr=0.02, momentum=0.9)\n"
      ],
      "execution_count": 7,
      "outputs": []
    },
    {
      "cell_type": "code",
      "metadata": {
        "colab": {
          "base_uri": "https://localhost:8080/"
        },
        "id": "kv02ypWJQiYp",
        "outputId": "c78941a2-e0f8-44f4-c004-19bc205c371f"
      },
      "source": [
        "epochs = 2001\n",
        "steps = X.size(0)\n",
        "for i in range(epochs):\n",
        "    for j in range(steps):\n",
        "        data_point = np.random.randint(X.size(0))\n",
        "        x_var = Variable(X[data_point], requires_grad=False)\n",
        "        y_var = Variable(Y[data_point], requires_grad=False)\n",
        "        \n",
        "        optimizer.zero_grad()\n",
        "        y_hat = model(x_var)\n",
        "        loss = loss_func.forward(y_hat, y_var)\n",
        "        loss.backward()\n",
        "        optimizer.step()\n",
        "        \n",
        "    if i % 50 == 0:\n",
        "        print( \"Epoch: {0}, Loss: {1}, \".format(i, loss.data.numpy()))"
      ],
      "execution_count": 8,
      "outputs": [
        {
          "output_type": "stream",
          "text": [
            "/usr/local/lib/python3.7/dist-packages/torch/nn/functional.py:1698: UserWarning: nn.functional.tanh is deprecated. Use torch.tanh instead.\n",
            "  warnings.warn(\"nn.functional.tanh is deprecated. Use torch.tanh instead.\")\n"
          ],
          "name": "stderr"
        },
        {
          "output_type": "stream",
          "text": [
            "Epoch: 0, Loss: 0.03395470976829529, \n",
            "Epoch: 50, Loss: 0.6055363416671753, \n",
            "Epoch: 100, Loss: 0.24714899063110352, \n",
            "Epoch: 150, Loss: 0.3277430236339569, \n",
            "Epoch: 200, Loss: 1.2065343856811523, \n",
            "Epoch: 250, Loss: 0.5327226519584656, \n",
            "Epoch: 300, Loss: 0.015867039561271667, \n",
            "Epoch: 350, Loss: 0.8909702897071838, \n",
            "Epoch: 400, Loss: 0.01247251033782959, \n",
            "Epoch: 450, Loss: 0.1542513370513916, \n",
            "Epoch: 500, Loss: 0.05872863531112671, \n",
            "Epoch: 550, Loss: 0.0008131833747029305, \n",
            "Epoch: 600, Loss: 0.042596518993377686, \n",
            "Epoch: 650, Loss: 0.17835187911987305, \n",
            "Epoch: 700, Loss: 0.007642306387424469, \n",
            "Epoch: 750, Loss: 0.3197460174560547, \n",
            "Epoch: 800, Loss: 0.15737450122833252, \n",
            "Epoch: 850, Loss: 0.04825582355260849, \n",
            "Epoch: 900, Loss: 0.05884629487991333, \n",
            "Epoch: 950, Loss: 0.07937991619110107, \n",
            "Epoch: 1000, Loss: 0.06913887709379196, \n",
            "Epoch: 1050, Loss: 0.1484970897436142, \n",
            "Epoch: 1100, Loss: 0.00856781005859375, \n",
            "Epoch: 1150, Loss: 0.03882482647895813, \n",
            "Epoch: 1200, Loss: 0.022961735725402832, \n",
            "Epoch: 1250, Loss: 0.0720834732055664, \n",
            "Epoch: 1300, Loss: 0.1729249656200409, \n",
            "Epoch: 1350, Loss: 0.04008966684341431, \n",
            "Epoch: 1400, Loss: 0.05054938793182373, \n",
            "Epoch: 1450, Loss: 0.039417564868927, \n",
            "Epoch: 1500, Loss: 0.0012159347534179688, \n",
            "Epoch: 1550, Loss: 0.28201019763946533, \n",
            "Epoch: 1600, Loss: 0.12608927488327026, \n",
            "Epoch: 1650, Loss: 0.05754733085632324, \n",
            "Epoch: 1700, Loss: 0.03486037254333496, \n",
            "Epoch: 1750, Loss: 0.06966578960418701, \n",
            "Epoch: 1800, Loss: 0.03346598520874977, \n",
            "Epoch: 1850, Loss: 0.0053119659423828125, \n",
            "Epoch: 1900, Loss: 0.06028711050748825, \n",
            "Epoch: 1950, Loss: 0.020615074783563614, \n",
            "Epoch: 2000, Loss: 0.18617868423461914, \n"
          ],
          "name": "stdout"
        }
      ]
    },
    {
      "cell_type": "code",
      "metadata": {
        "id": "-39Ga5rHQlr1"
      },
      "source": [
        ""
      ],
      "execution_count": null,
      "outputs": []
    }
  ]
}